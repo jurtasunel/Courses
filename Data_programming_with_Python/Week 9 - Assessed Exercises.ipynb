{
 "cells": [
  {
   "cell_type": "markdown",
   "metadata": {},
   "source": [
    "# Week 9 - Assessed exercises\n",
    "\n",
    "In this weeks exercises we will fit a regression model and create a stepwise AIC function.\n",
    "\n",
    "You **must** submit your answers on Moodle.\n",
    "\n",
    "Unfortunately, statsmodels is not installed on CodeRunner, so the questions this week only check your final answer. If you would like to receive partial credit for an incorrect answer, you should submit your code on Brightspace (Assessment $\\rightarrow$ Assignments $\\rightarrow$ Week 9 Exercises). This is not a requirement. I will only look at your submitted code if one of your answers on Moodle is incorrect."
   ]
  },
  {
   "cell_type": "code",
   "execution_count": 4,
   "metadata": {},
   "outputs": [],
   "source": [
    "from pandas import Series, DataFrame\n",
    "import pandas as pd\n",
    "import numpy as np\n",
    "import numpy.random as npr"
   ]
  },
  {
   "cell_type": "markdown",
   "metadata": {},
   "source": [
    "Load in the prostate data and create a DataFrame X which contains the following columns:\n",
    "* A column of 1s\n",
    "* The variables lcavol, lweight, age, lbph, svi, lcp, gleason, and pgg45 standardised to have mean 0 and standard deviation 1\n",
    "\n",
    "Create a Series y which contains the lpsa also standardised."
   ]
  },
  {
   "cell_type": "code",
   "execution_count": 5,
   "metadata": {},
   "outputs": [
    {
     "data": {
      "text/html": [
       "<div>\n",
       "<style scoped>\n",
       "    .dataframe tbody tr th:only-of-type {\n",
       "        vertical-align: middle;\n",
       "    }\n",
       "\n",
       "    .dataframe tbody tr th {\n",
       "        vertical-align: top;\n",
       "    }\n",
       "\n",
       "    .dataframe thead th {\n",
       "        text-align: right;\n",
       "    }\n",
       "</style>\n",
       "<table border=\"1\" class=\"dataframe\">\n",
       "  <thead>\n",
       "    <tr style=\"text-align: right;\">\n",
       "      <th></th>\n",
       "      <th>Unnamed: 0</th>\n",
       "      <th>lcavol</th>\n",
       "      <th>lweight</th>\n",
       "      <th>age</th>\n",
       "      <th>lbph</th>\n",
       "      <th>svi</th>\n",
       "      <th>lcp</th>\n",
       "      <th>gleason</th>\n",
       "      <th>pgg45</th>\n",
       "      <th>lpsa</th>\n",
       "      <th>train</th>\n",
       "    </tr>\n",
       "  </thead>\n",
       "  <tbody>\n",
       "    <tr>\n",
       "      <th>0</th>\n",
       "      <td>1</td>\n",
       "      <td>-0.579818</td>\n",
       "      <td>2.769459</td>\n",
       "      <td>50</td>\n",
       "      <td>-1.386294</td>\n",
       "      <td>0</td>\n",
       "      <td>-1.386294</td>\n",
       "      <td>6</td>\n",
       "      <td>0</td>\n",
       "      <td>-0.430783</td>\n",
       "      <td>T</td>\n",
       "    </tr>\n",
       "    <tr>\n",
       "      <th>1</th>\n",
       "      <td>2</td>\n",
       "      <td>-0.994252</td>\n",
       "      <td>3.319626</td>\n",
       "      <td>58</td>\n",
       "      <td>-1.386294</td>\n",
       "      <td>0</td>\n",
       "      <td>-1.386294</td>\n",
       "      <td>6</td>\n",
       "      <td>0</td>\n",
       "      <td>-0.162519</td>\n",
       "      <td>T</td>\n",
       "    </tr>\n",
       "    <tr>\n",
       "      <th>2</th>\n",
       "      <td>3</td>\n",
       "      <td>-0.510826</td>\n",
       "      <td>2.691243</td>\n",
       "      <td>74</td>\n",
       "      <td>-1.386294</td>\n",
       "      <td>0</td>\n",
       "      <td>-1.386294</td>\n",
       "      <td>7</td>\n",
       "      <td>20</td>\n",
       "      <td>-0.162519</td>\n",
       "      <td>T</td>\n",
       "    </tr>\n",
       "    <tr>\n",
       "      <th>3</th>\n",
       "      <td>4</td>\n",
       "      <td>-1.203973</td>\n",
       "      <td>3.282789</td>\n",
       "      <td>58</td>\n",
       "      <td>-1.386294</td>\n",
       "      <td>0</td>\n",
       "      <td>-1.386294</td>\n",
       "      <td>6</td>\n",
       "      <td>0</td>\n",
       "      <td>-0.162519</td>\n",
       "      <td>T</td>\n",
       "    </tr>\n",
       "    <tr>\n",
       "      <th>4</th>\n",
       "      <td>5</td>\n",
       "      <td>0.751416</td>\n",
       "      <td>3.432373</td>\n",
       "      <td>62</td>\n",
       "      <td>-1.386294</td>\n",
       "      <td>0</td>\n",
       "      <td>-1.386294</td>\n",
       "      <td>6</td>\n",
       "      <td>0</td>\n",
       "      <td>0.371564</td>\n",
       "      <td>T</td>\n",
       "    </tr>\n",
       "  </tbody>\n",
       "</table>\n",
       "</div>"
      ],
      "text/plain": [
       "   Unnamed: 0    lcavol   lweight  age      lbph  svi       lcp  gleason  \\\n",
       "0           1 -0.579818  2.769459   50 -1.386294    0 -1.386294        6   \n",
       "1           2 -0.994252  3.319626   58 -1.386294    0 -1.386294        6   \n",
       "2           3 -0.510826  2.691243   74 -1.386294    0 -1.386294        7   \n",
       "3           4 -1.203973  3.282789   58 -1.386294    0 -1.386294        6   \n",
       "4           5  0.751416  3.432373   62 -1.386294    0 -1.386294        6   \n",
       "\n",
       "   pgg45      lpsa train  \n",
       "0      0 -0.430783     T  \n",
       "1      0 -0.162519     T  \n",
       "2     20 -0.162519     T  \n",
       "3      0 -0.162519     T  \n",
       "4      0  0.371564     T  "
      ]
     },
     "execution_count": 5,
     "metadata": {},
     "output_type": "execute_result"
    }
   ],
   "source": [
    "# Load dataset.\n",
    "prostate = pd.read_csv('http://statweb.stanford.edu/~tibs/ElemStatLearn/datasets/prostate.data',sep='\\t')\n",
    "prostate.head()"
   ]
  },
  {
   "cell_type": "code",
   "execution_count": 6,
   "metadata": {},
   "outputs": [],
   "source": [
    "# Create arrays with the desired columns.\n",
    "col1 = np.ones(prostate.shape[0])\n",
    "col2 = prostate[\"lcavol\"]\n",
    "col3 = prostate[\"lweight\"]\n",
    "col4 = prostate[\"age\"]\n",
    "col5 = prostate[\"lbph\"]\n",
    "col6 = prostate[\"svi\"]\n",
    "col7 = prostate[\"lcp\"]\n",
    "col8 = prostate[\"gleason\"]\n",
    "col9 = prostate[\"pgg45\"]\n",
    "col_list = [col2, col3, col4, col5, col6, col7, col8, col9]"
   ]
  },
  {
   "cell_type": "markdown",
   "metadata": {},
   "source": [
    "Which column of X has the smallest correlation with y?"
   ]
  },
  {
   "cell_type": "code",
   "execution_count": 7,
   "metadata": {},
   "outputs": [
    {
     "data": {
      "text/html": [
       "<div>\n",
       "<style scoped>\n",
       "    .dataframe tbody tr th:only-of-type {\n",
       "        vertical-align: middle;\n",
       "    }\n",
       "\n",
       "    .dataframe tbody tr th {\n",
       "        vertical-align: top;\n",
       "    }\n",
       "\n",
       "    .dataframe thead th {\n",
       "        text-align: right;\n",
       "    }\n",
       "</style>\n",
       "<table border=\"1\" class=\"dataframe\">\n",
       "  <thead>\n",
       "    <tr style=\"text-align: right;\">\n",
       "      <th></th>\n",
       "      <th>1s</th>\n",
       "      <th>lcavol_norm</th>\n",
       "      <th>lweight_norm</th>\n",
       "      <th>age_norm</th>\n",
       "      <th>lbph_norm</th>\n",
       "      <th>svi_norm</th>\n",
       "      <th>lcp_norm</th>\n",
       "      <th>gleason_norm</th>\n",
       "      <th>pgg45_norm</th>\n",
       "    </tr>\n",
       "  </thead>\n",
       "  <tbody>\n",
       "    <tr>\n",
       "      <th>0</th>\n",
       "      <td>1.0</td>\n",
       "      <td>-1.645861</td>\n",
       "      <td>-2.016634</td>\n",
       "      <td>-1.872101</td>\n",
       "      <td>-1.030029</td>\n",
       "      <td>-0.525657</td>\n",
       "      <td>-0.867655</td>\n",
       "      <td>-1.047571</td>\n",
       "      <td>-0.868957</td>\n",
       "    </tr>\n",
       "    <tr>\n",
       "      <th>1</th>\n",
       "      <td>1.0</td>\n",
       "      <td>-1.999313</td>\n",
       "      <td>-0.725759</td>\n",
       "      <td>-0.791989</td>\n",
       "      <td>-1.030029</td>\n",
       "      <td>-0.525657</td>\n",
       "      <td>-0.867655</td>\n",
       "      <td>-1.047571</td>\n",
       "      <td>-0.868957</td>\n",
       "    </tr>\n",
       "    <tr>\n",
       "      <th>2</th>\n",
       "      <td>1.0</td>\n",
       "      <td>-1.587021</td>\n",
       "      <td>-2.200154</td>\n",
       "      <td>1.368234</td>\n",
       "      <td>-1.030029</td>\n",
       "      <td>-0.525657</td>\n",
       "      <td>-0.867655</td>\n",
       "      <td>0.344407</td>\n",
       "      <td>-0.156155</td>\n",
       "    </tr>\n",
       "    <tr>\n",
       "      <th>3</th>\n",
       "      <td>1.0</td>\n",
       "      <td>-2.178174</td>\n",
       "      <td>-0.812191</td>\n",
       "      <td>-0.791989</td>\n",
       "      <td>-1.030029</td>\n",
       "      <td>-0.525657</td>\n",
       "      <td>-0.867655</td>\n",
       "      <td>-1.047571</td>\n",
       "      <td>-0.868957</td>\n",
       "    </tr>\n",
       "    <tr>\n",
       "      <th>4</th>\n",
       "      <td>1.0</td>\n",
       "      <td>-0.510513</td>\n",
       "      <td>-0.461218</td>\n",
       "      <td>-0.251933</td>\n",
       "      <td>-1.030029</td>\n",
       "      <td>-0.525657</td>\n",
       "      <td>-0.867655</td>\n",
       "      <td>-1.047571</td>\n",
       "      <td>-0.868957</td>\n",
       "    </tr>\n",
       "  </tbody>\n",
       "</table>\n",
       "</div>"
      ],
      "text/plain": [
       "    1s  lcavol_norm  lweight_norm  age_norm  lbph_norm  svi_norm  lcp_norm  \\\n",
       "0  1.0    -1.645861     -2.016634 -1.872101  -1.030029 -0.525657 -0.867655   \n",
       "1  1.0    -1.999313     -0.725759 -0.791989  -1.030029 -0.525657 -0.867655   \n",
       "2  1.0    -1.587021     -2.200154  1.368234  -1.030029 -0.525657 -0.867655   \n",
       "3  1.0    -2.178174     -0.812191 -0.791989  -1.030029 -0.525657 -0.867655   \n",
       "4  1.0    -0.510513     -0.461218 -0.251933  -1.030029 -0.525657 -0.867655   \n",
       "\n",
       "   gleason_norm  pgg45_norm  \n",
       "0     -1.047571   -0.868957  \n",
       "1     -1.047571   -0.868957  \n",
       "2      0.344407   -0.156155  \n",
       "3     -1.047571   -0.868957  \n",
       "4     -1.047571   -0.868957  "
      ]
     },
     "execution_count": 7,
     "metadata": {},
     "output_type": "execute_result"
    }
   ],
   "source": [
    "# Create a list to store the normalized columns and a list with the new names of the columns.\n",
    "col_list_norm = [col1]\n",
    "col_names = [\"1s\", \"lcavol_norm\", \"lweight_norm\", \"age_norm\", \"lbph_norm\", \"svi_norm\", \"lcp_norm\", \"gleason_norm\", \"pgg45_norm\"]\n",
    "\n",
    "# Loop through the columns.\n",
    "for col_i in col_list:\n",
    "    # Get the mean and std.\n",
    "    mean = np.mean(col_i)\n",
    "    std = np.std(col_i)\n",
    "    # Store the normalize the values on a new list and append it to the normalized list.\n",
    "    col_i_norm = [((coli_i - mean) / std) for coli_i in col_i]\n",
    "    col_list_norm.append(col_i_norm)\n",
    "\n",
    "# Create a dataframe.\n",
    "df = DataFrame(col_list_norm)\n",
    "X = df.transpose()\n",
    "X.columns = col_names\n",
    "X.head()"
   ]
  },
  {
   "cell_type": "code",
   "execution_count": 8,
   "metadata": {},
   "outputs": [
    {
     "data": {
      "text/plain": [
       "0    -2.533318\n",
       "1    -2.299712\n",
       "2    -2.299712\n",
       "3    -2.299712\n",
       "4    -1.834631\n",
       "        ...   \n",
       "92    1.660415\n",
       "93    1.921044\n",
       "94    2.320465\n",
       "95    2.611649\n",
       "96    2.703452\n",
       "Length: 97, dtype: float64"
      ]
     },
     "execution_count": 8,
     "metadata": {},
     "output_type": "execute_result"
    }
   ],
   "source": [
    "# Create a pandas series with normalized lpsa.\n",
    "lpsa = prostate[\"lpsa\"]\n",
    "mean = np.mean(lpsa)\n",
    "st = np.std(lpsa)\n",
    "y = pd.Series([((lpsa_i - mean) / st) for lpsa_i in lpsa])\n",
    "y"
   ]
  },
  {
   "cell_type": "code",
   "execution_count": 9,
   "metadata": {},
   "outputs": [
    {
     "name": "stdout",
     "output_type": "stream",
     "text": [
      "1s                   NaN\n",
      "lcavol_norm     0.734460\n",
      "lweight_norm    0.433319\n",
      "age_norm        0.169593\n",
      "lbph_norm       0.179809\n",
      "svi_norm        0.566218\n",
      "lcp_norm        0.548813\n",
      "gleason_norm    0.368987\n",
      "pgg45_norm      0.422316\n",
      "dtype: float64\n"
     ]
    }
   ],
   "source": [
    "# Check the correlation of X columns with y.\n",
    "print(X.corrwith(y))"
   ]
  },
  {
   "cell_type": "markdown",
   "metadata": {},
   "source": [
    "Use the `OLS` function from statsmodels.api to fit a linear regression with y as your dependent/response variable and the first two columns of X as the explanatory variables, i.e. the intercept column and the lcavol column. \n",
    "\n",
    "What is the adjusted R-square to 3 decimal places?"
   ]
  },
  {
   "cell_type": "code",
   "execution_count": 10,
   "metadata": {},
   "outputs": [
    {
     "name": "stdout",
     "output_type": "stream",
     "text": [
      "                            OLS Regression Results                            \n",
      "==============================================================================\n",
      "Dep. Variable:                      y   R-squared:                       0.539\n",
      "Model:                            OLS   Adj. R-squared:                  0.535\n",
      "Method:                 Least Squares   F-statistic:                     111.3\n",
      "Date:                Fri, 27 Nov 2020   Prob (F-statistic):           1.12e-17\n",
      "Time:                        10:11:43   Log-Likelihood:                -100.04\n",
      "No. Observations:                  97   AIC:                             204.1\n",
      "Df Residuals:                      95   BIC:                             209.2\n",
      "Df Model:                           1                                         \n",
      "Covariance Type:            nonrobust                                         \n",
      "===============================================================================\n",
      "                  coef    std err          t      P>|t|      [0.025      0.975]\n",
      "-------------------------------------------------------------------------------\n",
      "1s           1.561e-16      0.070   2.24e-15      1.000      -0.138       0.138\n",
      "lcavol_norm     0.7345      0.070     10.548      0.000       0.596       0.873\n",
      "==============================================================================\n",
      "Omnibus:                        0.403   Durbin-Watson:                   1.237\n",
      "Prob(Omnibus):                  0.817   Jarque-Bera (JB):                0.548\n",
      "Skew:                          -0.128   Prob(JB):                        0.760\n",
      "Kurtosis:                       2.735   Cond. No.                         1.00\n",
      "==============================================================================\n",
      "\n",
      "Notes:\n",
      "[1] Standard Errors assume that the covariance matrix of the errors is correctly specified.\n"
     ]
    }
   ],
   "source": [
    "new_X = X[[\"1s\", \"lcavol_norm\"]]\n",
    "\n",
    "# Import statsmodel.api and run the fit.\n",
    "import statsmodels.api as sm\n",
    "mod = sm.OLS(y, new_X)\n",
    "res = mod.fit()\n",
    "print(res.summary())"
   ]
  },
  {
   "cell_type": "markdown",
   "metadata": {},
   "source": [
    "I now want to run a *forward selection AIC regression*. AIC is the Akaike information criterion. It's designed to penalise models with lots of explanatory variables so that we pick models which fit the data well but aren't too complicated. In general, if you have two models fitted to the same data, the model with the lowest AIC is preferable. The AIC is given as part of the model summary with OLS.\n",
    "\n",
    "The steps to run a forward selection AIC regression are: \n",
    "1. Run a linear regression with just the intercept column. Get the AIC.\n",
    "2. Repeat:<br>\n",
    "a. Try adding in all the currently unused explanatory variables individually and look at the decrease in AIC for each<br>\n",
    "b. Find the variable with the biggest decrease in AIC and include it in the model<br>\n",
    "c. If none of the variables lowers the AIC then stop, otherwise go to 2a.\n",
    "3. Report your final chosen variables\n",
    "\n",
    "Write a function called `forwardAIC` which performs this algorithm given the DataFrame X and Series y.\n",
    "The function should return the column numbers of the X matrix for the model that gives the lowest AIC."
   ]
  },
  {
   "cell_type": "code",
   "execution_count": 12,
   "metadata": {},
   "outputs": [
    {
     "name": "stdout",
     "output_type": "stream",
     "text": [
      "                            OLS Regression Results                            \n",
      "==============================================================================\n",
      "Dep. Variable:                      y   R-squared:                       0.663\n",
      "Model:                            OLS   Adj. R-squared:                  0.633\n",
      "Method:                 Least Squares   F-statistic:                     21.68\n",
      "Date:                Fri, 27 Nov 2020   Prob (F-statistic):           7.65e-18\n",
      "Time:                        10:12:13   Log-Likelihood:                -84.829\n",
      "No. Observations:                  97   AIC:                             187.7\n",
      "Df Residuals:                      88   BIC:                             210.8\n",
      "Df Model:                           8                                         \n",
      "Covariance Type:            nonrobust                                         \n",
      "================================================================================\n",
      "                   coef    std err          t      P>|t|      [0.025      0.975]\n",
      "--------------------------------------------------------------------------------\n",
      "1s            3.469e-17      0.062   5.61e-16      1.000      -0.123       0.123\n",
      "lcavol_norm      0.5762      0.090      6.425      0.000       0.398       0.754\n",
      "lweight_norm     0.2309      0.075      3.096      0.003       0.083       0.379\n",
      "age_norm        -0.1370      0.071     -1.917      0.058      -0.279       0.005\n",
      "lbph_norm        0.1216      0.073      1.670      0.098      -0.023       0.266\n",
      "svi_norm         0.2732      0.086      3.158      0.002       0.101       0.445\n",
      "lcp_norm        -0.1285      0.109     -1.180      0.241      -0.345       0.088\n",
      "gleason_norm     0.0308      0.097      0.317      0.752      -0.162       0.224\n",
      "pgg45_norm       0.1089      0.107      1.021      0.310      -0.103       0.321\n",
      "==============================================================================\n",
      "Omnibus:                        0.563   Durbin-Watson:                   1.540\n",
      "Prob(Omnibus):                  0.755   Jarque-Bera (JB):                0.183\n",
      "Skew:                           0.017   Prob(JB):                        0.913\n",
      "Kurtosis:                       3.210   Cond. No.                         4.15\n",
      "==============================================================================\n",
      "\n",
      "Notes:\n",
      "[1] Standard Errors assume that the covariance matrix of the errors is correctly specified.\n"
     ]
    }
   ],
   "source": [
    "mod = sm.OLS(y, X)\n",
    "res = mod.fit()\n",
    "print(res.summary())"
   ]
  },
  {
   "cell_type": "markdown",
   "metadata": {},
   "source": [
    "What's the AIC of this chosen model?"
   ]
  },
  {
   "cell_type": "code",
   "execution_count": null,
   "metadata": {},
   "outputs": [],
   "source": []
  },
  {
   "cell_type": "markdown",
   "metadata": {},
   "source": [
    "**Bonus question (ungraded)**\n",
    "\n",
    "Run the same analysis on the Diamonds data using price as the dependent/response variable. Load the data in and create dummy variables for the categorical variables cut, colour and clarity (using `pd.get_dummies`). You will need to drop one category for each categorical variable (i.e. drop 'Fair' for cut, drop 'D' for color, and drop 'I1' for clarity). Otherwise the model cannot be fully determined.\n",
    "\n",
    "Standardise everything, add in the intercept column, and then run your `forwardAIC` function. "
   ]
  },
  {
   "cell_type": "code",
   "execution_count": null,
   "metadata": {},
   "outputs": [],
   "source": []
  },
  {
   "cell_type": "markdown",
   "metadata": {},
   "source": [
    "How many variables (not including the intercept) get chosen?"
   ]
  },
  {
   "cell_type": "code",
   "execution_count": null,
   "metadata": {},
   "outputs": [],
   "source": []
  },
  {
   "cell_type": "markdown",
   "metadata": {},
   "source": [
    "What's the AIC of this chosen model?"
   ]
  },
  {
   "cell_type": "code",
   "execution_count": null,
   "metadata": {},
   "outputs": [],
   "source": []
  },
  {
   "cell_type": "markdown",
   "metadata": {},
   "source": [
    "These two bonus questions are included in the *Week 9 - Non-assessed exercises* quiz on Moodle."
   ]
  },
  {
   "cell_type": "code",
   "execution_count": null,
   "metadata": {},
   "outputs": [],
   "source": []
  }
 ],
 "metadata": {
  "kernelspec": {
   "display_name": "Python 3",
   "language": "python",
   "name": "python3"
  },
  "language_info": {
   "codemirror_mode": {
    "name": "ipython",
    "version": 3
   },
   "file_extension": ".py",
   "mimetype": "text/x-python",
   "name": "python",
   "nbconvert_exporter": "python",
   "pygments_lexer": "ipython3",
   "version": "3.7.5"
  }
 },
 "nbformat": 4,
 "nbformat_minor": 2
}
